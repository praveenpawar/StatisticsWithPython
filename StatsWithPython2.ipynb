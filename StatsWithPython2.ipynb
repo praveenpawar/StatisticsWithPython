{
 "cells": [
  {
   "cell_type": "code",
   "execution_count": 1,
   "id": "79241674",
   "metadata": {},
   "outputs": [],
   "source": [
    "import numpy as np\n",
    "from statistics import mode"
   ]
  },
  {
   "cell_type": "code",
   "execution_count": 2,
   "id": "7e1938d5",
   "metadata": {},
   "outputs": [
    {
     "data": {
      "text/plain": [
       "array([11, 13, 14, 15, 19, 18, 18, 14, 10, 18])"
      ]
     },
     "execution_count": 2,
     "metadata": {},
     "output_type": "execute_result"
    }
   ],
   "source": [
    "np.random.randint(10, 20, 10)"
   ]
  },
  {
   "cell_type": "code",
   "execution_count": 3,
   "id": "8d49de43",
   "metadata": {},
   "outputs": [
    {
     "data": {
      "text/plain": [
       "array([19, 10, 18, 17, 15, 14, 15, 10, 17, 16, 19, 17, 13, 14, 14, 17, 13,\n",
       "       10, 10, 12, 16, 14, 14, 10, 19, 12, 11, 11, 14, 11, 12, 13, 10, 11,\n",
       "       18, 14, 18, 19, 19, 16, 19, 13, 15, 18, 12, 16, 10, 17, 13, 16])"
      ]
     },
     "execution_count": 3,
     "metadata": {},
     "output_type": "execute_result"
    }
   ],
   "source": [
    "population = np.random.randint(10, 20, 50)\n",
    "population"
   ]
  },
  {
   "cell_type": "code",
   "execution_count": 4,
   "id": "d7ea13db",
   "metadata": {},
   "outputs": [
    {
     "data": {
      "text/plain": [
       "14.42"
      ]
     },
     "execution_count": 4,
     "metadata": {},
     "output_type": "execute_result"
    }
   ],
   "source": [
    "np.mean(population)"
   ]
  },
  {
   "cell_type": "code",
   "execution_count": 5,
   "id": "f971bf33",
   "metadata": {},
   "outputs": [
    {
     "data": {
      "text/plain": [
       "14.0"
      ]
     },
     "execution_count": 5,
     "metadata": {},
     "output_type": "execute_result"
    }
   ],
   "source": [
    "np.median(population)"
   ]
  },
  {
   "cell_type": "code",
   "execution_count": 6,
   "id": "cea5ea17",
   "metadata": {},
   "outputs": [
    {
     "ename": "AttributeError",
     "evalue": "module 'numpy' has no attribute 'mode'",
     "output_type": "error",
     "traceback": [
      "\u001b[1;31m---------------------------------------------------------------------------\u001b[0m",
      "\u001b[1;31mAttributeError\u001b[0m                            Traceback (most recent call last)",
      "\u001b[1;32m~\\AppData\\Local\\Temp\\ipykernel_11804\\3898741853.py\u001b[0m in \u001b[0;36m<module>\u001b[1;34m\u001b[0m\n\u001b[1;32m----> 1\u001b[1;33m \u001b[0mnp\u001b[0m\u001b[1;33m.\u001b[0m\u001b[0mmode\u001b[0m\u001b[1;33m(\u001b[0m\u001b[0mpopulation\u001b[0m\u001b[1;33m)\u001b[0m\u001b[1;33m\u001b[0m\u001b[1;33m\u001b[0m\u001b[0m\n\u001b[0m",
      "\u001b[1;32m~\\anaconda3\\lib\\site-packages\\numpy\\__init__.py\u001b[0m in \u001b[0;36m__getattr__\u001b[1;34m(attr)\u001b[0m\n\u001b[0;32m    311\u001b[0m                 \u001b[1;32mreturn\u001b[0m \u001b[0mTester\u001b[0m\u001b[1;33m\u001b[0m\u001b[1;33m\u001b[0m\u001b[0m\n\u001b[0;32m    312\u001b[0m \u001b[1;33m\u001b[0m\u001b[0m\n\u001b[1;32m--> 313\u001b[1;33m             raise AttributeError(\"module {!r} has no attribute \"\n\u001b[0m\u001b[0;32m    314\u001b[0m                                  \"{!r}\".format(__name__, attr))\n\u001b[0;32m    315\u001b[0m \u001b[1;33m\u001b[0m\u001b[0m\n",
      "\u001b[1;31mAttributeError\u001b[0m: module 'numpy' has no attribute 'mode'"
     ]
    }
   ],
   "source": [
    "np.mode(population)"
   ]
  },
  {
   "cell_type": "code",
   "execution_count": 7,
   "id": "49bd49f6",
   "metadata": {},
   "outputs": [
    {
     "data": {
      "text/plain": [
       "10"
      ]
     },
     "execution_count": 7,
     "metadata": {},
     "output_type": "execute_result"
    }
   ],
   "source": [
    "mode(population)"
   ]
  },
  {
   "cell_type": "code",
   "execution_count": 8,
   "id": "a472e07a",
   "metadata": {},
   "outputs": [
    {
     "name": "stdout",
     "output_type": "stream",
     "text": [
      "population : [19 10 18 17 15 14 15 10 17 16 19 17 13 14 14 17 13 10 10 12 16 14 14 10\n",
      " 19 12 11 11 14 11 12 13 10 11 18 14 18 19 19 16 19 13 15 18 12 16 10 17\n",
      " 13 16]\n",
      "mean of the population is : 14.42\n",
      "median of the population is : 14.0\n",
      "mode of the population is : 10\n"
     ]
    }
   ],
   "source": [
    "print(f\"population : {population}\")\n",
    "print(f\"mean of the population is : {np.mean(population)}\")\n",
    "print(f\"median of the population is : {np.median(population)}\")\n",
    "print(f\"mode of the population is : {mode(population)}\")"
   ]
  },
  {
   "cell_type": "code",
   "execution_count": 9,
   "id": "0626bc7c",
   "metadata": {},
   "outputs": [
    {
     "data": {
      "text/plain": [
       "19"
      ]
     },
     "execution_count": 9,
     "metadata": {},
     "output_type": "execute_result"
    }
   ],
   "source": [
    "np.random.choice(population)"
   ]
  },
  {
   "cell_type": "code",
   "execution_count": 10,
   "id": "7f07f836",
   "metadata": {},
   "outputs": [
    {
     "data": {
      "text/plain": [
       "array([17, 10, 17, 10, 19])"
      ]
     },
     "execution_count": 10,
     "metadata": {},
     "output_type": "execute_result"
    }
   ],
   "source": [
    "np.random.choice(population, 5)"
   ]
  },
  {
   "cell_type": "code",
   "execution_count": 11,
   "id": "53443161",
   "metadata": {},
   "outputs": [],
   "source": [
    "sample = np.random.choice(population, 20)"
   ]
  },
  {
   "cell_type": "code",
   "execution_count": 12,
   "id": "733542c6",
   "metadata": {},
   "outputs": [
    {
     "name": "stdout",
     "output_type": "stream",
     "text": [
      "sample : [10 14 17 16 13 19 11 14 13 10 14 12 10 18 13 14 18 16 15 19]\n",
      "mean of the sample is : 14.3\n",
      "median of the sample is : 14.0\n",
      "mode of the sample is : 14\n"
     ]
    }
   ],
   "source": [
    "print(f\"sample : {sample}\")\n",
    "print(f\"mean of the sample is : {np.mean(sample)}\")\n",
    "print(f\"median of the sample is : {np.median(sample)}\")\n",
    "print(f\"mode of the sample is : {mode(sample)}\")"
   ]
  },
  {
   "cell_type": "code",
   "execution_count": 13,
   "id": "dbc67666",
   "metadata": {},
   "outputs": [
    {
     "name": "stdout",
     "output_type": "stream",
     "text": [
      "sample 1 : [14 17 11 13 16 13 17 14 15 18 13 18 17 13 10 19 13 10 11 17]\n",
      "sample 2 : [17 13 18 13 12 18 19 18 14 15 14 10 16 13 16 18 11 19 14 19]\n",
      "sample 3 : [19 11 19 14 14 19 13 14 18 18 10 14 11 17 13 10 10 19 11 16]\n",
      "sample 4 : [19 12 15 19 18 19 14 19 17 10 17 19 19 16 16 13 15 17 10 10]\n"
     ]
    }
   ],
   "source": [
    "sample1 = np.random.choice(population, 20)\n",
    "sample2 = np.random.choice(population, 20)\n",
    "sample3 = np.random.choice(population, 20)\n",
    "sample4 = np.random.choice(population, 20)\n",
    "\n",
    "print(f\"sample 1 : {sample1}\")\n",
    "print(f\"sample 2 : {sample2}\")\n",
    "print(f\"sample 3 : {sample3}\")\n",
    "print(f\"sample 4 : {sample4}\")"
   ]
  },
  {
   "cell_type": "code",
   "execution_count": 14,
   "id": "6ea22dd3",
   "metadata": {},
   "outputs": [],
   "source": [
    "mean_of_sample=[]\n",
    "all_sample = [sample1,sample2,sample3,sample4]\n",
    "\n",
    "for sample in all_sample:\n",
    "    mean_of_sample.append(np.mean(sample))"
   ]
  },
  {
   "cell_type": "code",
   "execution_count": 15,
   "id": "c3c42b82",
   "metadata": {},
   "outputs": [
    {
     "data": {
      "text/plain": [
       "[14.45, 15.35, 14.5, 15.7]"
      ]
     },
     "execution_count": 15,
     "metadata": {},
     "output_type": "execute_result"
    }
   ],
   "source": [
    "mean_of_sample"
   ]
  },
  {
   "cell_type": "markdown",
   "id": "16316705",
   "metadata": {},
   "source": [
    "Central limit theorem:\n",
    "Central limit theorem is a statistical theory which states that when the large sample size has a finite variance, the samples will be normally distributed and the mean of samples will be approximately equal to the mean of the whole population."
   ]
  },
  {
   "cell_type": "code",
   "execution_count": 16,
   "id": "8982f442",
   "metadata": {},
   "outputs": [
    {
     "data": {
      "text/plain": [
       "array([ 4,  2,  5,  6,  5,  6,  6,  6,  5,  5,  2,  7, 10,  7,  5,  5,  6,\n",
       "        5,  7,  7,  6,  7,  7,  6,  6,  1,  7,  3,  8,  7,  6,  7,  7,  5,\n",
       "        4,  5,  5,  4,  1,  1,  2,  2,  5,  8,  4,  2,  6,  5,  5,  7,  5,\n",
       "        7,  6,  3,  6,  4,  5,  7,  6,  7,  5,  6,  2,  6,  7,  4,  3,  8,\n",
       "        6,  2,  7,  6,  3,  4,  4,  4,  5,  6,  6,  6,  6,  5,  6,  5,  3,\n",
       "        5,  4,  7,  7,  4,  6,  6,  6,  2,  4,  4,  7,  8,  7,  5,  5,  5,\n",
       "        4,  5,  6,  4,  5,  5,  4,  2,  6,  4,  5,  5,  5,  4,  5,  3,  4,\n",
       "        3,  3,  5,  6,  5,  4,  6,  8,  4,  1,  7,  5,  3,  5,  5,  6,  5,\n",
       "        4,  5,  5,  5,  5,  8,  3,  5,  7,  5,  6,  1,  7,  5,  4,  4,  4,\n",
       "        4,  3,  5,  4,  7,  5,  1,  3,  6,  6,  2,  8,  2,  3,  5,  4,  4,\n",
       "        3,  7,  3,  5,  3,  1,  7,  7,  6,  7,  4,  6,  4,  6,  8,  6,  4,\n",
       "        7,  6,  6,  5,  4,  5,  5,  4,  3,  2,  5,  7,  5,  7,  6,  2,  5,\n",
       "        6,  6,  5,  3,  4,  4,  4,  5,  3,  4,  5,  5,  4,  6,  7,  6,  8,\n",
       "        6,  6,  6,  7,  6,  4,  6,  3,  6,  5,  6,  7,  7,  6,  8,  7,  6,\n",
       "        5,  5,  6,  6,  5,  5,  2,  5,  5,  7,  5,  4,  3,  2,  4,  2,  3,\n",
       "        3,  7,  4,  6,  6,  4,  6,  3,  7,  7,  5,  4,  7,  2,  8,  6,  6,\n",
       "        5,  5,  7,  5,  3,  5,  7,  3,  4,  4,  5,  2,  3,  3,  3,  8,  6,\n",
       "        4,  7,  6,  3,  6,  5,  3,  6,  4,  5,  3,  3,  5,  4,  7,  4,  6,\n",
       "        6,  8,  7,  5,  7,  4,  5,  5,  4,  5,  6,  7,  4,  4,  6,  2,  3,\n",
       "        6,  4,  3,  6,  4,  8,  6,  6,  6,  1,  4,  3,  6,  5,  5,  7,  6,\n",
       "        6,  6,  7,  4,  3,  5,  6,  2,  6,  5,  5,  4,  8,  6,  7,  7,  5,\n",
       "        4,  6,  7,  5,  4,  2,  3,  5,  5,  3,  4,  4,  6,  7,  3,  3,  8,\n",
       "        5,  6,  5,  1,  4,  7,  5,  8,  5,  8,  6,  4,  6,  3,  5,  3,  5,\n",
       "        7,  4,  3,  2,  3,  4,  5,  7,  6,  4,  4,  9,  8,  5,  3,  2,  6,\n",
       "        3,  7,  2,  5,  7,  3,  5,  4,  3,  7,  5,  5,  6,  5,  8,  5,  2,\n",
       "        4,  5,  6,  4,  6,  6,  1,  4,  2,  4,  6,  6,  7,  3,  5,  5,  4,\n",
       "        6,  5,  5,  5,  4,  6,  7,  3,  4,  7,  4,  3,  6,  5,  3,  5,  5,\n",
       "        7,  6,  2,  5,  3,  4,  6,  4,  4,  3,  6,  4,  4,  6,  7,  9,  5,\n",
       "        5,  6,  5,  6,  4,  3,  6,  6,  3,  5,  7,  6,  5,  5,  8,  5,  6,\n",
       "        8,  4,  6,  4,  5,  8,  3,  5,  5,  6,  3,  8,  6,  6,  4,  4,  9,\n",
       "        5,  6,  5,  4,  4,  3,  5,  5,  4,  5,  5,  7,  7,  6,  5,  3,  6,\n",
       "        3,  9,  5,  5,  4,  3, 10,  3,  7,  5,  3,  5,  3,  5,  4,  6,  6,\n",
       "        6,  5,  3,  6,  9,  4,  5,  4,  5,  4,  6,  5,  8,  6,  4,  5,  6,\n",
       "        7,  6,  6,  2,  5,  6,  6,  5,  2,  6,  5,  4,  5,  5,  6,  5,  7,\n",
       "        4,  7,  5,  4,  5,  8,  3,  5,  6,  3,  6,  3,  6,  3,  6,  3,  8,\n",
       "        6,  3,  3,  5,  6,  7,  8,  3,  6,  9,  4,  7,  8,  3,  5,  3,  4,\n",
       "        7,  5,  8,  6,  6,  5,  5,  5,  8,  6,  4,  6,  3,  4,  4,  2,  6,\n",
       "        5,  5,  2,  4,  4,  6,  8,  3,  7,  4,  5,  5,  2,  4,  6,  5,  4,\n",
       "        5,  6,  4,  4,  5,  4,  3,  7,  6,  9,  5,  4,  3,  7,  6,  3,  4,\n",
       "        3,  3,  6,  5,  6,  4,  3,  4,  6,  7,  5,  2,  3,  5,  6,  5,  3,\n",
       "        4,  6,  5,  7,  5,  5,  2,  6,  6,  7,  7,  4,  7,  6,  6,  5,  7,\n",
       "        3,  5,  4,  4,  5,  6,  7,  4,  5,  4,  8,  7,  5,  4,  3,  6,  8,\n",
       "        7,  4,  6,  5,  5,  3,  4,  7,  5,  7,  6,  6,  6,  5,  5,  3,  5,\n",
       "        4,  8,  5,  6,  3,  5,  5,  4,  6,  7,  6,  6,  5,  3,  7,  4,  5,\n",
       "        5,  6,  7,  8,  3,  6,  8,  7,  4,  5,  7,  6,  5,  4,  6,  4,  7,\n",
       "        4,  6,  1,  5,  7,  6,  7,  7,  4,  2,  5,  7,  5,  6,  6,  2,  5,\n",
       "        5,  6,  5,  7,  5,  7,  3,  4,  4,  1,  5,  6,  4,  5,  6,  4,  7,\n",
       "        6,  6,  5,  3,  5,  5,  3,  5,  5,  7,  6,  8,  6,  5,  6,  3,  5,\n",
       "        9,  4,  4,  7,  6,  4,  6,  6,  5,  5,  9,  5,  4,  7,  3,  5,  5,\n",
       "        5,  4,  5,  3,  6,  6,  4,  6,  4,  6,  3,  4,  7,  4,  6,  2,  6,\n",
       "        4,  5,  2,  5,  3,  4,  8,  6,  6,  4,  6,  6,  8,  9,  2,  5,  6,\n",
       "        8,  5,  5,  5,  5,  6,  9,  7,  4,  6,  6,  5,  6,  4,  4,  5,  6,\n",
       "        4,  5,  4,  7,  6,  9,  2,  4,  6,  4,  3,  3,  5,  6,  8,  6,  7,\n",
       "        5,  3,  5,  4,  6,  4,  7,  5,  6,  4,  5,  7,  5,  4,  5,  4,  3,\n",
       "        4,  4,  3,  6,  1,  4,  4,  5,  5,  7,  6,  7,  5,  5,  7,  7,  6,\n",
       "        2,  6,  3,  6,  4,  6,  5,  7,  3,  8,  3,  6,  7,  6,  6,  5,  6,\n",
       "        3,  6,  4,  4,  6,  3,  6,  5,  4,  6,  8,  2,  4,  7,  4,  5,  4,\n",
       "        7,  5,  5,  5,  5,  5,  6,  5,  5,  8,  5,  3,  5,  5,  5,  6,  5,\n",
       "        8,  5,  4,  2,  6,  6,  7,  3,  3,  4,  4,  4,  5,  4])"
      ]
     },
     "execution_count": 16,
     "metadata": {},
     "output_type": "execute_result"
    }
   ],
   "source": [
    "population1 = np.random.binomial(10, 0.5, 1000)\n",
    "population1"
   ]
  },
  {
   "cell_type": "code",
   "execution_count": 17,
   "id": "2ee07a37",
   "metadata": {},
   "outputs": [
    {
     "data": {
      "text/plain": [
       "1000"
      ]
     },
     "execution_count": 17,
     "metadata": {},
     "output_type": "execute_result"
    }
   ],
   "source": [
    "len(population1)"
   ]
  },
  {
   "cell_type": "code",
   "execution_count": 18,
   "id": "d823e097",
   "metadata": {},
   "outputs": [
    {
     "data": {
      "text/plain": [
       "<seaborn.axisgrid.FacetGrid at 0x268290f8a60>"
      ]
     },
     "execution_count": 18,
     "metadata": {},
     "output_type": "execute_result"
    },
    {
     "data": {
      "image/png": "[encoded data removed]",
      "text/plain": [
       "<Figure size 500x500 with 1 Axes>"
      ]
     },
     "metadata": {},
     "output_type": "display_data"
    }
   ],
   "source": [
    "import seaborn as sns\n",
    "sns.displot(population1)"
   ]
  },
  {
   "cell_type": "code",
   "execution_count": 19,
   "id": "3be0529d",
   "metadata": {},
   "outputs": [
    {
     "data": {
      "text/plain": [
       "300.0"
      ]
     },
     "execution_count": 19,
     "metadata": {},
     "output_type": "execute_result"
    }
   ],
   "source": [
    "len(population1)*0.30 #30 % from population"
   ]
  },
  {
   "cell_type": "code",
   "execution_count": 20,
   "id": "a44b862e",
   "metadata": {},
   "outputs": [],
   "source": [
    "size = int(len(population1)*0.30)"
   ]
  },
  {
   "cell_type": "code",
   "execution_count": 21,
   "id": "82e86f38",
   "metadata": {},
   "outputs": [],
   "source": [
    "sample_mean=[]\n",
    "for i in range(1, 31):\n",
    "    sample = np.random.choice(population1, size=size)\n",
    "    sample_mean.append(np.mean(sample))"
   ]
  },
  {
   "cell_type": "code",
   "execution_count": 22,
   "id": "d8bd5b47",
   "metadata": {},
   "outputs": [
    {
     "data": {
      "text/plain": [
       "[5.12,\n",
       " 4.933333333333334,\n",
       " 4.866666666666666,\n",
       " 5.19,\n",
       " 4.923333333333333,\n",
       " 5.066666666666666,\n",
       " 5.086666666666667,\n",
       " 4.993333333333333,\n",
       " 5.116666666666666,\n",
       " 4.953333333333333,\n",
       " 5.206666666666667,\n",
       " 4.956666666666667,\n",
       " 5.033333333333333,\n",
       " 4.973333333333334,\n",
       " 4.98,\n",
       " 5.03,\n",
       " 5.16,\n",
       " 5.07,\n",
       " 5.1033333333333335,\n",
       " 5.266666666666667,\n",
       " 5.126666666666667,\n",
       " 5.136666666666667,\n",
       " 5.19,\n",
       " 4.966666666666667,\n",
       " 5.03,\n",
       " 4.946666666666666,\n",
       " 5.043333333333333,\n",
       " 5.23,\n",
       " 4.99,\n",
       " 5.013333333333334]"
      ]
     },
     "execution_count": 22,
     "metadata": {},
     "output_type": "execute_result"
    }
   ],
   "source": [
    "sample_mean"
   ]
  },
  {
   "cell_type": "code",
   "execution_count": 42,
   "id": "303876ef",
   "metadata": {},
   "outputs": [
    {
     "data": {
      "text/plain": [
       "<seaborn.axisgrid.FacetGrid at 0x2682e495fa0>"
      ]
     },
     "execution_count": 42,
     "metadata": {},
     "output_type": "execute_result"
    },
    {
     "data": {
      "image/png": "[encoded data removed]",
      "text/plain": [
       "<Figure size 500x500 with 1 Axes>"
      ]
     },
     "metadata": {},
     "output_type": "display_data"
    }
   ],
   "source": [
    "import seaborn as sns\n",
    "%matplotlib inline\n",
    "sns.displot(sample_mean, kde=True)"
   ]
  },
  {
   "cell_type": "code",
   "execution_count": 30,
   "id": "41cf0190",
   "metadata": {},
   "outputs": [],
   "source": [
    "sample_mean=[]\n",
    "for i in range(1, 100):\n",
    "    sample = np.random.choice(population1, size=size)\n",
    "    sample_mean.append(np.mean(sample))"
   ]
  },
  {
   "cell_type": "code",
   "execution_count": 43,
   "id": "e2dcc5a8",
   "metadata": {},
   "outputs": [
    {
     "data": {
      "text/plain": [
       "<seaborn.axisgrid.FacetGrid at 0x2682e2f7a60>"
      ]
     },
     "execution_count": 43,
     "metadata": {},
     "output_type": "execute_result"
    },
    {
     "data": {
      "image/png": "[encoded data removed]",
      "text/plain": [
       "<Figure size 500x500 with 1 Axes>"
      ]
     },
     "metadata": {},
     "output_type": "display_data"
    }
   ],
   "source": [
    "sns.displot(sample_mean, kde=True)"
   ]
  },
  {
   "cell_type": "code",
   "execution_count": 32,
   "id": "9d593fbc",
   "metadata": {},
   "outputs": [
    {
     "data": {
      "text/plain": [
       "5.076666666666667"
      ]
     },
     "execution_count": 32,
     "metadata": {},
     "output_type": "execute_result"
    }
   ],
   "source": [
    "np.mean(sample_mean)"
   ]
  },
  {
   "cell_type": "markdown",
   "id": "eb90b051",
   "metadata": {},
   "source": [
    "confidence interval and margin of error"
   ]
  },
  {
   "cell_type": "code",
   "execution_count": 34,
   "id": "6d30a4bd",
   "metadata": {},
   "outputs": [
    {
     "data": {
      "text/plain": [
       "1.6448536269514722"
      ]
     },
     "execution_count": 34,
     "metadata": {},
     "output_type": "execute_result"
    }
   ],
   "source": [
    "import scipy.stats as stats\n",
    "stats.norm.ppf(q=0.95)"
   ]
  },
  {
   "cell_type": "code",
   "execution_count": 35,
   "id": "96229877",
   "metadata": {},
   "outputs": [
    {
     "data": {
      "text/plain": [
       "2.3263478740408408"
      ]
     },
     "execution_count": 35,
     "metadata": {},
     "output_type": "execute_result"
    }
   ],
   "source": [
    "stats.norm.ppf(q=0.99)"
   ]
  },
  {
   "cell_type": "code",
   "execution_count": 36,
   "id": "8dc8d12a",
   "metadata": {},
   "outputs": [],
   "source": [
    "# Above values are area under curve; can verify with the Z-table"
   ]
  },
  {
   "cell_type": "code",
   "execution_count": 38,
   "id": "c8feeb83",
   "metadata": {},
   "outputs": [
    {
     "data": {
      "text/plain": [
       "1.7108820799094275"
      ]
     },
     "execution_count": 38,
     "metadata": {},
     "output_type": "execute_result"
    }
   ],
   "source": [
    "#t-value\n",
    "t_critical = stats.t.ppf(q=0.95,df=24)\n",
    "t_critical"
   ]
  },
  {
   "cell_type": "code",
   "execution_count": 44,
   "id": "093a9009",
   "metadata": {},
   "outputs": [],
   "source": [
    "## Missed the margin of error concept here"
   ]
  },
  {
   "cell_type": "code",
   "execution_count": 45,
   "id": "9a5bfecd",
   "metadata": {},
   "outputs": [],
   "source": [
    "#Z-Test"
   ]
  },
  {
   "cell_type": "code",
   "execution_count": 48,
   "id": "b9f5c076",
   "metadata": {},
   "outputs": [],
   "source": [
    "from numpy.random import randn\n",
    "data=randn(100)"
   ]
  },
  {
   "cell_type": "code",
   "execution_count": 49,
   "id": "b7160a7a",
   "metadata": {},
   "outputs": [
    {
     "data": {
      "text/plain": [
       "array([ 0.6612429 ,  1.5831447 ,  0.50334733, -0.96659708, -1.26930695,\n",
       "       -0.42084463,  0.88001528, -0.88863104,  0.57772344, -0.87994118,\n",
       "        1.16289006,  0.45511839, -0.13967854, -1.68939937, -0.91673508,\n",
       "       -0.01315782, -3.17999262,  0.30680774,  2.1349891 ,  0.14032314,\n",
       "        0.16370133,  3.23580151, -1.22504026,  0.38850151,  0.94705936,\n",
       "        0.77681224, -1.11156019,  0.59935104,  0.82626146, -0.56642664,\n",
       "        0.61465929,  0.68594093, -0.5937991 ,  0.4072769 , -1.56054152,\n",
       "        0.05040502,  0.532169  ,  0.33180174, -0.35970964, -0.83717451,\n",
       "       -1.09272749,  1.02893422,  0.7294505 , -1.40221693,  0.1172511 ,\n",
       "        0.29275736,  0.43030266,  0.20765232,  1.64415955,  0.0233808 ,\n",
       "       -0.84680326, -0.17108024,  1.28041213,  1.14093047, -1.02236669,\n",
       "        1.2560374 , -1.02151762,  0.47839839, -0.42079104, -0.52977066,\n",
       "       -1.46389184,  2.25829849,  0.12773792, -0.11118608, -0.54695386,\n",
       "       -0.34693102, -0.13522174,  0.11587848, -0.16656202, -0.23593756,\n",
       "       -0.33060368, -0.18871981, -1.2078815 , -0.17406992,  0.39770203,\n",
       "        1.56313663,  0.64888585, -0.94318525,  0.84153709, -1.77351411,\n",
       "        1.02482519, -0.43458789, -0.08151917, -0.9006718 ,  0.49476582,\n",
       "       -0.07332357,  0.33127447,  0.14265091, -1.13428044,  0.19258012,\n",
       "        2.68554281, -1.19009207, -0.10143857,  1.96987232,  0.64335314,\n",
       "        0.4849584 ,  1.36528874,  0.46181679,  0.38566856, -0.18041413])"
      ]
     },
     "execution_count": 49,
     "metadata": {},
     "output_type": "execute_result"
    }
   ],
   "source": [
    "data"
   ]
  },
  {
   "cell_type": "code",
   "execution_count": 50,
   "id": "f4c5780a",
   "metadata": {},
   "outputs": [
    {
     "name": "stderr",
     "output_type": "stream",
     "text": [
      "C:\\Users\\pvppa\\anaconda3\\lib\\site-packages\\seaborn\\distributions.py:2619: FutureWarning: `distplot` is a deprecated function and will be removed in a future version. Please adapt your code to use either `displot` (a figure-level function with similar flexibility) or `histplot` (an axes-level function for histograms).\n",
      "  warnings.warn(msg, FutureWarning)\n"
     ]
    },
    {
     "data": {
      "text/plain": [
       "<AxesSubplot:ylabel='Density'>"
      ]
     },
     "execution_count": 50,
     "metadata": {},
     "output_type": "execute_result"
    },
    {
     "data": {
      "image/png": "[encoded data removed]",
      "text/plain": [
       "<Figure size 640x480 with 1 Axes>"
      ]
     },
     "metadata": {},
     "output_type": "display_data"
    }
   ],
   "source": [
    "sns.distplot(data, kde=True )"
   ]
  },
  {
   "cell_type": "code",
   "execution_count": 54,
   "id": "4cba174f",
   "metadata": {},
   "outputs": [
    {
     "name": "stdout",
     "output_type": "stream",
     "text": [
      "here is a mean of the population: 14.42 here is as std deviation: 2.973819093354537\n"
     ]
    }
   ],
   "source": [
    "print(f\"here is a mean of the population: {np.mean(population)} here is as std deviation: {np.std(population)}\")"
   ]
  },
  {
   "cell_type": "code",
   "execution_count": null,
   "id": "7f722349",
   "metadata": {},
   "outputs": [],
   "source": [
    "#Null  hypothysis need to revise.\n"
   ]
  }
 ],
 "metadata": {
  "kernelspec": {
   "display_name": "Python 3 (ipykernel)",
   "language": "python",
   "name": "python3"
  },
  "language_info": {
   "codemirror_mode": {
    "name": "ipython",
    "version": 3
   },
   "file_extension": ".py",
   "mimetype": "text/x-python",
   "name": "python",
   "nbconvert_exporter": "python",
   "pygments_lexer": "ipython3",
   "version": "3.9.13"
  }
 },
 "nbformat": 4,
 "nbformat_minor": 5
}
